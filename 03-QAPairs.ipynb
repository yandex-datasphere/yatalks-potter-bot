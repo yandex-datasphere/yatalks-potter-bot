{
 "cells": [
  {
   "cell_type": "code",
   "execution_count": 2,
   "metadata": {},
   "outputs": [],
   "source": [
    "from langchain.llms import YandexGPT\n",
    "gpt = YandexGPT(api_key=\"AQVN2CTg4cQxh_FEuVKtgjgvxM38dYutiqtecH0M\")\n"
   ]
  },
  {
   "cell_type": "code",
   "execution_count": 37,
   "metadata": {},
   "outputs": [],
   "source": [
    "prompt=\"\"\"\n",
    "Ниже в тройных обратных кавычках приводится некоторый текст.\n",
    "Твоя задача - внимательно прочитать\n",
    "текст и сформулировать как можно больше (но не менее 10) вопросов к \n",
    "этому тексту. Пожалуйста, запиши вопросы и ответы на них (содержащиеся \n",
    "в тексте) в формате JSON следующим образом:\n",
    "[\n",
    "    {\"request\":\"вопрос 1\",\"response\":\"ответ 1\"},\n",
    "    {\"request\":\"вопрос 2\",\"response\":\"ответ 2\"},\n",
    "    ...\n",
    "].\n",
    "Напиши только те вопросы, ответы на которые содержатся в тексте. \n",
    "Пожалуйста, формулируй вопросы и ответы как можно более подробным образом.\n",
    "Вот фрагмент странички:\n",
    "```\n",
    "{PAGE}\n",
    "```\n",
    "\"\"\""
   ]
  },
  {
   "cell_type": "code",
   "execution_count": 63,
   "metadata": {},
   "outputs": [
    {
     "name": "stdout",
     "output_type": "stream",
     "text": [
      "[{'request': 'Как называется книга?', 'response': '«1000'}]\n",
      "[{'request': 'Как называется улица, где находится дом миссис Эспозито?', 'response': '24-я Вест-стрит'}, {'request': 'Какой город упоминается в тексте?', 'response': 'Нью-Йорк'}, {'request': 'Какое государство упоминается в тексте?', 'response': 'Соединённые Штаты'}, {'request': 'Кто является владельцем дома, где находится квартира миссис Эспозито?', 'response': 'Миссис Эспозито'}, {'request': 'Кто проживает в квартире миссис Эспозито?', 'response': 'Миссис Эспозито и её племянницы, Куинни Голдштейн и Тина Голдштейн'}, {'request': 'Какое правило было у миссис Эспозито относительно проживающих в её квартире людей?', 'response': 'Никаких мужчин'}, {'request': 'Когда происходит действие, описанное в тексте?', 'response': '6 декабря 1926 года'}, {'request': 'Какие события происходят в доме миссис Эспозито?', 'response': 'Порпентина Голдштейн тайно приводит в дом двух молодых людей — Ньюта Саламандера и Якоба Ковальски'}, {'request': 'В каком фильме упоминается дом миссис Эспозито?', 'response': 'Фантастические твари: Преступления Грин-де-Вальда'}, {'request': 'В какой игре LEGO упоминается дом миссис Эспозито?', 'response': 'LEGO Гарри Поттер: Персонажи Волшебного Мира'}]\n",
      "[]\n",
      "[]\n",
      "[{'request': 'Как называется композиция?', 'response': 'A Close Friend'}, {'request': 'Кто написал эту композицию?', 'response': 'Джеймс Ньютон Ховард'}, {'request': 'Как называется фильм, в котором используется эта композиция?', 'response': 'Фантастические твари и где они обитают'}, {'request': 'Какой номер композиции?', 'response': '12'}, {'request': 'Какова продолжительность композиции?', 'response': '1:52'}, {'request': 'Как переводится название композиции?', 'response': 'Близкий друг'}, {'request': 'Что такое The Demiguise и The Occamy?', 'response': 'Неизвестно'}, {'request': 'Что такое The Obscurus / Rooftop Chase?', 'response': 'Неизвестно'}]\n",
      "[{'request': 'Как называется мелодия из фильма «Гарри Поттер и Орден Феникса»?', 'response': 'A Journey to Hogwarts'}, {'request': 'Как называется альбом, на котором есть мелодия «A Journey to Hogwarts»?', 'response': 'Гарри Поттер и Орден Феникса (саундтрек)'}, {'request': 'Кто написал мелодию «A Journey to Hogwarts»?', 'response': 'Николас Хупер'}, {'request': 'Какой номер композиции у мелодии «A Journey to Hogwarts»?', 'response': '10'}, {'request': 'Какова продолжительность мелодии «A Journey to Hogwarts»?', 'response': '2:54'}, {'request': 'Как называется фильм, в котором есть мелодия «A Journey to Hogwarts»?', 'response': 'Гарри Поттер и Орден Феникса'}]\n",
      "[{'request': 'Как называется композиция?', 'response': 'A Man and His Beasts'}, {'request': 'Кто написал эту композицию?', 'response': 'Джеймс Ньютон Ховард'}, {'request': 'Как называется фильм, в котором используется эта композиция?', 'response': 'Фантастические твари и где они обитают'}, {'request': 'Какой номер композиции?', 'response': '1'}, {'request': 'Какова продолжительность композиции?', 'response': '8:31'}]\n",
      "[]\n",
      "[{'request': 'Как называется композиция?', 'response': 'A New Headmaster'}, {'request': 'Кто написал эту композицию?', 'response': 'Александр Депла'}, {'request': 'В каком фильме можно услышать эту композицию?', 'response': 'Гарри Поттер и Дары Смерти: Часть 2'}, {'request': 'Какой номер композиции?', 'response': '7'}, {'request': 'Какова продолжительность композиции?', 'response': '03:25'}]\n",
      "[{'request': 'Как называется композиция?', 'response': 'A Window to the Past'}, {'request': 'Как называется альбом, на котором есть эта композиция?', 'response': 'Гарри Поттер и узник Азкабана (саундтрек)'}, {'request': 'Как называется композиция на альбоме?', 'response': \"Buckbeak's Flight\"}, {'request': 'Как называется композиция на альбоме?', 'response': 'The Whomping Willow and the Snowball Fight'}, {'request': 'Как называется фильм, в котором есть композиция?', 'response': 'Гарри Поттер и узник Азкабана'}, {'request': 'Какой номер композиции?', 'response': '7'}, {'request': 'Какая продолжительность композиции?', 'response': '3:54'}, {'request': 'Как зовут композитора?', 'response': 'Джон Уильямс'}, {'request': 'Как называется композиция на альбоме?', 'response': 'A Window to the Past'}, {'request': 'Как переводится название композиции?', 'response': 'Окно в прошлое'}]\n",
      "[{'request': 'Как называется мелодия из фильма «Гарри Поттер и Орден Феникса»?', 'response': 'Another Story'}, {'request': 'Какой альбом включает в себя мелодию «Another Story»?', 'response': 'Гарри Поттер и Орден Феникса (саундтрек)'}, {'request': 'Кто написал мелодию «Another Story» для фильма «Гарри Поттер и Орден Феникса»?', 'response': 'Николас Хупер'}, {'request': 'Какой номер композиции у мелодии «Another Story»?', 'response': '3'}, {'request': 'Какова продолжительность мелодии «Another Story»?', 'response': '2:41'}, {'request': 'Как переводится название «Another Story»?', 'response': 'Ещё одна история'}, {'request': 'В каком фильме звучит мелодия «Another Story»?', 'response': 'Гарри Поттер и Орден Феникса'}]\n",
      "[{'request': 'Как называется композиция?', 'response': 'Another Year Ends'}, {'request': 'Как называется альбом, на котором она находится?', 'response': 'Гарри Поттер и Кубок огня (саундтрек)'}, {'request': 'Как называется композиция на английском языке?', 'response': 'Another Year Ends'}, {'request': 'Как переводится название композиции?', 'response': 'Еще один курс закончился'}, {'request': 'Какой номер композиции?', 'response': '20'}, {'request': 'Какова продолжительность композиции?', 'response': '2:21'}, {'request': 'Кто является композитором?', 'response': 'Патрик Дойл'}, {'request': 'Где используется композиция?', 'response': 'Гарри Поттер и Кубок огня'}]\n",
      "[{'request': 'Как называется мелодия из фильма «Гарри Поттер и узник Азкабана»?', 'response': 'Apparition on the Train'}, {'request': 'Как называется альбом, на котором есть мелодия «Apparition on the Train»?', 'response': 'Гарри Поттер и узник Азкабана (саундтрек)'}, {'request': 'Как называется транспортное средство, на котором можно встретить мелодию «Apparition on the Train»?', 'response': 'The Knight Bus'}, {'request': 'Как называется ещё одна мелодия из фильма «Гарри Поттер и узник Азкабана»?', 'response': 'Double Trouble'}, {'request': 'Сколько длится мелодия «Apparition on the Train»?', 'response': '2:15'}, {'request': 'Кто написал мелодию «Apparition on the Train»?', 'response': 'Джон Уильямс'}, {'request': 'Как называется фильм, в котором можно услышать мелодию «Apparition on the Train»?', 'response': 'Гарри Поттер и узник Азкабана'}]\n",
      "[{'request': 'Как называется композиция?', 'response': 'At the Burrow'}, {'request': 'Как называется альбом, на котором есть эта композиция?', 'response': 'Harry Potter and the Deathly Hallows: Part 1 original motion picture soundtrack'}, {'request': 'Как называется композиция на английском языке?', 'response': 'At the Burrow'}, {'request': 'Как называется композиция на русском языке?', 'response': 'В Норе'}, {'request': 'Какой номер композиции?', 'response': '5'}, {'request': 'Какова продолжительность композиции?', 'response': '2:35'}, {'request': 'Кто является композитором?', 'response': 'Александр Депла'}, {'request': 'В каком фильме используется эта композиция?', 'response': 'Гарри Поттер и Дары Смерти: Часть 1'}]\n",
      "[{'request': 'Как называется мелодия из фильма «Гарри Поттер и узник Азкабана»?', 'response': \"Aunt Marge's Waltz\"}, {'request': \"Какой альбом включает в себя мелодию «Aunt Marge's Waltz»?\", 'response': 'Гарри Поттер и узник Азкабана (саундтрек)'}, {'request': 'Как называется композиция, которая является мелодией из фильма «Гарри Поттер и узник Азкабана»?', 'response': \"Lumos! (Hedwig's Theme)\"}, {'request': 'Как называется композиция, которая является мелодией из фильма «Гарри Поттер и узник Азкабана»?', 'response': 'The Knight Bus'}, {'request': 'Как называется мелодия из фильма «Гарри Поттер и узник Азкабана»?', 'response': \"Aunt Marge's Waltz\"}, {'request': 'Какое оригинальное название у мелодии из фильма «Гарри Поттер и узник Азкабана»?', 'response': 'Вальс Тетушки Мардж'}, {'request': 'Какой номер имеет мелодия из фильма «Гарри Поттер и узник Азкабана»?', 'response': '2'}, {'request': 'Какова продолжительность мелодии из фильма «Гарри Поттер и узник Азкабана»?', 'response': '2:15'}, {'request': 'Как зовут композитора мелодии из фильма «Гарри Поттер и узник Азкабана»?', 'response': 'Джон Уильямс'}, {'request': 'В каком фильме можно услышать мелодию из фильма «Гарри Поттер и узник Азкабана»?', 'response': 'Гарри Поттер и узник Азкабана'}]\n",
      "[{'request': 'Как называется композиция?', 'response': 'Bathilda Bagshot'}, {'request': 'В каком фильме она звучит?', 'response': 'Harry Potter and the Deathly Hallows: Part 1 original motion picture soundtrack'}, {'request': 'Где она звучит?', 'response': \"Godric's Hollow Graveyard\"}, {'request': 'Кто родители Гермионы?', 'response': \"Hermione's Parents\"}, {'request': 'Как называется композиция на английском языке?', 'response': 'Bathilda Bagshot'}, {'request': 'Как переводится название композиции?', 'response': 'Батильда Бэгшот'}, {'request': 'Какой номер композиции?', 'response': '17'}, {'request': 'Какова продолжительность композиции?', 'response': '3:54'}, {'request': 'Кто является композитором?', 'response': 'Александр Депла'}, {'request': 'В каком фильме используется эта композиция?', 'response': 'Harry Potter and the Deathly Hallows: Part 1 original motion picture soundtrack'}]\n",
      "[{'request': 'Как называется композиция?', 'response': 'Battlefield'}, {'request': 'Из какого фильма эта композиция?', 'response': 'Гарри Поттер и Дары Смерти: Часть 2'}, {'request': 'Кто написал эту композицию?', 'response': 'Александр Депла'}, {'request': 'Какой номер композиции?', 'response': '12'}, {'request': 'Какова продолжительность композиции?', 'response': '02:13'}, {'request': 'В каком альбоме находится эта композиция?', 'response': 'Harry Potter and the Deathly Hallows: Part 2 original motion picture soundtrack'}, {'request': 'Как называется альбом?', 'response': 'In the Chamber of Secrets'}, {'request': 'Как называется композиция в альбоме?', 'response': 'The Diadem'}]\n",
      "[]\n"
     ]
    },
    {
     "ename": "KeyboardInterrupt",
     "evalue": "",
     "output_type": "error",
     "traceback": [
      "\u001b[1;31m---------------------------------------------------------------------------\u001b[0m",
      "\u001b[1;31mKeyboardInterrupt\u001b[0m                         Traceback (most recent call last)",
      "\u001b[1;32md:\\GIT\\yatalks-potter-bot\\03-QAPairs.ipynb Cell 3\u001b[0m line \u001b[0;36m1\n\u001b[0;32m      <a href='vscode-notebook-cell:/d%3A/GIT/yatalks-potter-bot/03-QAPairs.ipynb#W2sZmlsZQ%3D%3D?line=7'>8</a>\u001b[0m text \u001b[39m=\u001b[39m \u001b[39mopen\u001b[39m(\u001b[39mf\u001b[39m\u001b[39m'\u001b[39m\u001b[39mcontent/text/\u001b[39m\u001b[39m{\u001b[39;00mfn\u001b[39m}\u001b[39;00m\u001b[39m'\u001b[39m,\u001b[39m'\u001b[39m\u001b[39mr\u001b[39m\u001b[39m'\u001b[39m,encoding\u001b[39m=\u001b[39m\u001b[39m'\u001b[39m\u001b[39mutf-8\u001b[39m\u001b[39m'\u001b[39m)\u001b[39m.\u001b[39mread()\n\u001b[0;32m      <a href='vscode-notebook-cell:/d%3A/GIT/yatalks-potter-bot/03-QAPairs.ipynb#W2sZmlsZQ%3D%3D?line=8'>9</a>\u001b[0m p \u001b[39m=\u001b[39m prompt\u001b[39m.\u001b[39mreplace(\u001b[39m'\u001b[39m\u001b[39m{PAGE}\u001b[39;00m\u001b[39m'\u001b[39m,text)\n\u001b[1;32m---> <a href='vscode-notebook-cell:/d%3A/GIT/yatalks-potter-bot/03-QAPairs.ipynb#W2sZmlsZQ%3D%3D?line=9'>10</a>\u001b[0m res \u001b[39m=\u001b[39m gpt(p)\n\u001b[0;32m     <a href='vscode-notebook-cell:/d%3A/GIT/yatalks-potter-bot/03-QAPairs.ipynb#W2sZmlsZQ%3D%3D?line=10'>11</a>\u001b[0m \u001b[39mprint\u001b[39m(jp\u001b[39m.\u001b[39mparse(res))\n\u001b[0;32m     <a href='vscode-notebook-cell:/d%3A/GIT/yatalks-potter-bot/03-QAPairs.ipynb#W2sZmlsZQ%3D%3D?line=11'>12</a>\u001b[0m time\u001b[39m.\u001b[39msleep(\u001b[39m1\u001b[39m)\n",
      "File \u001b[1;32mc:\\winapp\\conda\\envs\\fresh\\lib\\site-packages\\langchain\\llms\\base.py:876\u001b[0m, in \u001b[0;36mBaseLLM.__call__\u001b[1;34m(self, prompt, stop, callbacks, tags, metadata, **kwargs)\u001b[0m\n\u001b[0;32m    869\u001b[0m \u001b[39mif\u001b[39;00m \u001b[39mnot\u001b[39;00m \u001b[39misinstance\u001b[39m(prompt, \u001b[39mstr\u001b[39m):\n\u001b[0;32m    870\u001b[0m     \u001b[39mraise\u001b[39;00m \u001b[39mValueError\u001b[39;00m(\n\u001b[0;32m    871\u001b[0m         \u001b[39m\"\u001b[39m\u001b[39mArgument `prompt` is expected to be a string. Instead found \u001b[39m\u001b[39m\"\u001b[39m\n\u001b[0;32m    872\u001b[0m         \u001b[39mf\u001b[39m\u001b[39m\"\u001b[39m\u001b[39m{\u001b[39;00m\u001b[39mtype\u001b[39m(prompt)\u001b[39m}\u001b[39;00m\u001b[39m. If you want to run the LLM on multiple prompts, use \u001b[39m\u001b[39m\"\u001b[39m\n\u001b[0;32m    873\u001b[0m         \u001b[39m\"\u001b[39m\u001b[39m`generate` instead.\u001b[39m\u001b[39m\"\u001b[39m\n\u001b[0;32m    874\u001b[0m     )\n\u001b[0;32m    875\u001b[0m \u001b[39mreturn\u001b[39;00m (\n\u001b[1;32m--> 876\u001b[0m     \u001b[39mself\u001b[39m\u001b[39m.\u001b[39mgenerate(\n\u001b[0;32m    877\u001b[0m         [prompt],\n\u001b[0;32m    878\u001b[0m         stop\u001b[39m=\u001b[39mstop,\n\u001b[0;32m    879\u001b[0m         callbacks\u001b[39m=\u001b[39mcallbacks,\n\u001b[0;32m    880\u001b[0m         tags\u001b[39m=\u001b[39mtags,\n\u001b[0;32m    881\u001b[0m         metadata\u001b[39m=\u001b[39mmetadata,\n\u001b[0;32m    882\u001b[0m         \u001b[39m*\u001b[39m\u001b[39m*\u001b[39mkwargs,\n\u001b[0;32m    883\u001b[0m     )\n\u001b[0;32m    884\u001b[0m     \u001b[39m.\u001b[39mgenerations[\u001b[39m0\u001b[39m][\u001b[39m0\u001b[39m]\n\u001b[0;32m    885\u001b[0m     \u001b[39m.\u001b[39mtext\n\u001b[0;32m    886\u001b[0m )\n",
      "File \u001b[1;32mc:\\winapp\\conda\\envs\\fresh\\lib\\site-packages\\langchain\\llms\\base.py:656\u001b[0m, in \u001b[0;36mBaseLLM.generate\u001b[1;34m(self, prompts, stop, callbacks, tags, metadata, run_name, **kwargs)\u001b[0m\n\u001b[0;32m    641\u001b[0m         \u001b[39mraise\u001b[39;00m \u001b[39mValueError\u001b[39;00m(\n\u001b[0;32m    642\u001b[0m             \u001b[39m\"\u001b[39m\u001b[39mAsked to cache, but no cache found at `langchain.cache`.\u001b[39m\u001b[39m\"\u001b[39m\n\u001b[0;32m    643\u001b[0m         )\n\u001b[0;32m    644\u001b[0m     run_managers \u001b[39m=\u001b[39m [\n\u001b[0;32m    645\u001b[0m         callback_manager\u001b[39m.\u001b[39mon_llm_start(\n\u001b[0;32m    646\u001b[0m             dumpd(\u001b[39mself\u001b[39m),\n\u001b[1;32m   (...)\u001b[0m\n\u001b[0;32m    654\u001b[0m         )\n\u001b[0;32m    655\u001b[0m     ]\n\u001b[1;32m--> 656\u001b[0m     output \u001b[39m=\u001b[39m \u001b[39mself\u001b[39m\u001b[39m.\u001b[39m_generate_helper(\n\u001b[0;32m    657\u001b[0m         prompts, stop, run_managers, \u001b[39mbool\u001b[39m(new_arg_supported), \u001b[39m*\u001b[39m\u001b[39m*\u001b[39mkwargs\n\u001b[0;32m    658\u001b[0m     )\n\u001b[0;32m    659\u001b[0m     \u001b[39mreturn\u001b[39;00m output\n\u001b[0;32m    660\u001b[0m \u001b[39mif\u001b[39;00m \u001b[39mlen\u001b[39m(missing_prompts) \u001b[39m>\u001b[39m \u001b[39m0\u001b[39m:\n",
      "File \u001b[1;32mc:\\winapp\\conda\\envs\\fresh\\lib\\site-packages\\langchain\\llms\\base.py:544\u001b[0m, in \u001b[0;36mBaseLLM._generate_helper\u001b[1;34m(self, prompts, stop, run_managers, new_arg_supported, **kwargs)\u001b[0m\n\u001b[0;32m    542\u001b[0m     \u001b[39mfor\u001b[39;00m run_manager \u001b[39min\u001b[39;00m run_managers:\n\u001b[0;32m    543\u001b[0m         run_manager\u001b[39m.\u001b[39mon_llm_error(e)\n\u001b[1;32m--> 544\u001b[0m     \u001b[39mraise\u001b[39;00m e\n\u001b[0;32m    545\u001b[0m flattened_outputs \u001b[39m=\u001b[39m output\u001b[39m.\u001b[39mflatten()\n\u001b[0;32m    546\u001b[0m \u001b[39mfor\u001b[39;00m manager, flattened_output \u001b[39min\u001b[39;00m \u001b[39mzip\u001b[39m(run_managers, flattened_outputs):\n",
      "File \u001b[1;32mc:\\winapp\\conda\\envs\\fresh\\lib\\site-packages\\langchain\\llms\\base.py:531\u001b[0m, in \u001b[0;36mBaseLLM._generate_helper\u001b[1;34m(self, prompts, stop, run_managers, new_arg_supported, **kwargs)\u001b[0m\n\u001b[0;32m    521\u001b[0m \u001b[39mdef\u001b[39;00m \u001b[39m_generate_helper\u001b[39m(\n\u001b[0;32m    522\u001b[0m     \u001b[39mself\u001b[39m,\n\u001b[0;32m    523\u001b[0m     prompts: List[\u001b[39mstr\u001b[39m],\n\u001b[1;32m   (...)\u001b[0m\n\u001b[0;32m    527\u001b[0m     \u001b[39m*\u001b[39m\u001b[39m*\u001b[39mkwargs: Any,\n\u001b[0;32m    528\u001b[0m ) \u001b[39m-\u001b[39m\u001b[39m>\u001b[39m LLMResult:\n\u001b[0;32m    529\u001b[0m     \u001b[39mtry\u001b[39;00m:\n\u001b[0;32m    530\u001b[0m         output \u001b[39m=\u001b[39m (\n\u001b[1;32m--> 531\u001b[0m             \u001b[39mself\u001b[39m\u001b[39m.\u001b[39m_generate(\n\u001b[0;32m    532\u001b[0m                 prompts,\n\u001b[0;32m    533\u001b[0m                 stop\u001b[39m=\u001b[39mstop,\n\u001b[0;32m    534\u001b[0m                 \u001b[39m# TODO: support multiple run managers\u001b[39;00m\n\u001b[0;32m    535\u001b[0m                 run_manager\u001b[39m=\u001b[39mrun_managers[\u001b[39m0\u001b[39m] \u001b[39mif\u001b[39;00m run_managers \u001b[39melse\u001b[39;00m \u001b[39mNone\u001b[39;00m,\n\u001b[0;32m    536\u001b[0m                 \u001b[39m*\u001b[39m\u001b[39m*\u001b[39mkwargs,\n\u001b[0;32m    537\u001b[0m             )\n\u001b[0;32m    538\u001b[0m             \u001b[39mif\u001b[39;00m new_arg_supported\n\u001b[0;32m    539\u001b[0m             \u001b[39melse\u001b[39;00m \u001b[39mself\u001b[39m\u001b[39m.\u001b[39m_generate(prompts, stop\u001b[39m=\u001b[39mstop)\n\u001b[0;32m    540\u001b[0m         )\n\u001b[0;32m    541\u001b[0m     \u001b[39mexcept\u001b[39;00m \u001b[39mBaseException\u001b[39;00m \u001b[39mas\u001b[39;00m e:\n\u001b[0;32m    542\u001b[0m         \u001b[39mfor\u001b[39;00m run_manager \u001b[39min\u001b[39;00m run_managers:\n",
      "File \u001b[1;32mc:\\winapp\\conda\\envs\\fresh\\lib\\site-packages\\langchain\\llms\\base.py:1053\u001b[0m, in \u001b[0;36mLLM._generate\u001b[1;34m(self, prompts, stop, run_manager, **kwargs)\u001b[0m\n\u001b[0;32m   1050\u001b[0m new_arg_supported \u001b[39m=\u001b[39m inspect\u001b[39m.\u001b[39msignature(\u001b[39mself\u001b[39m\u001b[39m.\u001b[39m_call)\u001b[39m.\u001b[39mparameters\u001b[39m.\u001b[39mget(\u001b[39m\"\u001b[39m\u001b[39mrun_manager\u001b[39m\u001b[39m\"\u001b[39m)\n\u001b[0;32m   1051\u001b[0m \u001b[39mfor\u001b[39;00m prompt \u001b[39min\u001b[39;00m prompts:\n\u001b[0;32m   1052\u001b[0m     text \u001b[39m=\u001b[39m (\n\u001b[1;32m-> 1053\u001b[0m         \u001b[39mself\u001b[39m\u001b[39m.\u001b[39m_call(prompt, stop\u001b[39m=\u001b[39mstop, run_manager\u001b[39m=\u001b[39mrun_manager, \u001b[39m*\u001b[39m\u001b[39m*\u001b[39mkwargs)\n\u001b[0;32m   1054\u001b[0m         \u001b[39mif\u001b[39;00m new_arg_supported\n\u001b[0;32m   1055\u001b[0m         \u001b[39melse\u001b[39;00m \u001b[39mself\u001b[39m\u001b[39m.\u001b[39m_call(prompt, stop\u001b[39m=\u001b[39mstop, \u001b[39m*\u001b[39m\u001b[39m*\u001b[39mkwargs)\n\u001b[0;32m   1056\u001b[0m     )\n\u001b[0;32m   1057\u001b[0m     generations\u001b[39m.\u001b[39mappend([Generation(text\u001b[39m=\u001b[39mtext)])\n\u001b[0;32m   1058\u001b[0m \u001b[39mreturn\u001b[39;00m LLMResult(generations\u001b[39m=\u001b[39mgenerations)\n",
      "File \u001b[1;32mc:\\winapp\\conda\\envs\\fresh\\lib\\site-packages\\langchain\\llms\\yandex.py:130\u001b[0m, in \u001b[0;36mYandexGPT._call\u001b[1;34m(self, prompt, stop, run_manager, **kwargs)\u001b[0m\n\u001b[0;32m    128\u001b[0m     metadata \u001b[39m=\u001b[39m ((\u001b[39m\"\u001b[39m\u001b[39mauthorization\u001b[39m\u001b[39m\"\u001b[39m, \u001b[39mf\u001b[39m\u001b[39m\"\u001b[39m\u001b[39mApi-Key \u001b[39m\u001b[39m{\u001b[39;00m\u001b[39mself\u001b[39m\u001b[39m.\u001b[39mapi_key\u001b[39m}\u001b[39;00m\u001b[39m\"\u001b[39m),)\n\u001b[0;32m    129\u001b[0m res \u001b[39m=\u001b[39m stub\u001b[39m.\u001b[39mInstruct(request, metadata\u001b[39m=\u001b[39mmetadata)\n\u001b[1;32m--> 130\u001b[0m text \u001b[39m=\u001b[39m \u001b[39mlist\u001b[39;49m(res)[\u001b[39m0\u001b[39m]\u001b[39m.\u001b[39malternatives[\u001b[39m0\u001b[39m]\u001b[39m.\u001b[39mtext\n\u001b[0;32m    131\u001b[0m \u001b[39mif\u001b[39;00m stop \u001b[39mis\u001b[39;00m \u001b[39mnot\u001b[39;00m \u001b[39mNone\u001b[39;00m:\n\u001b[0;32m    132\u001b[0m     text \u001b[39m=\u001b[39m enforce_stop_tokens(text, stop)\n",
      "File \u001b[1;32mc:\\winapp\\conda\\envs\\fresh\\lib\\site-packages\\grpc\\_channel.py:541\u001b[0m, in \u001b[0;36m_Rendezvous.__next__\u001b[1;34m(self)\u001b[0m\n\u001b[0;32m    540\u001b[0m \u001b[39mdef\u001b[39;00m \u001b[39m__next__\u001b[39m(\u001b[39mself\u001b[39m):\n\u001b[1;32m--> 541\u001b[0m     \u001b[39mreturn\u001b[39;00m \u001b[39mself\u001b[39;49m\u001b[39m.\u001b[39;49m_next()\n",
      "File \u001b[1;32mc:\\winapp\\conda\\envs\\fresh\\lib\\site-packages\\grpc\\_channel.py:958\u001b[0m, in \u001b[0;36m_MultiThreadedRendezvous._next\u001b[1;34m(self)\u001b[0m\n\u001b[0;32m    952\u001b[0m \u001b[39mdef\u001b[39;00m \u001b[39m_response_ready\u001b[39m():\n\u001b[0;32m    953\u001b[0m     \u001b[39mreturn\u001b[39;00m \u001b[39mself\u001b[39m\u001b[39m.\u001b[39m_state\u001b[39m.\u001b[39mresponse \u001b[39mis\u001b[39;00m \u001b[39mnot\u001b[39;00m \u001b[39mNone\u001b[39;00m \u001b[39mor\u001b[39;00m (\n\u001b[0;32m    954\u001b[0m         cygrpc\u001b[39m.\u001b[39mOperationType\u001b[39m.\u001b[39mreceive_message \u001b[39mnot\u001b[39;00m \u001b[39min\u001b[39;00m \u001b[39mself\u001b[39m\u001b[39m.\u001b[39m_state\u001b[39m.\u001b[39mdue\n\u001b[0;32m    955\u001b[0m         \u001b[39mand\u001b[39;00m \u001b[39mself\u001b[39m\u001b[39m.\u001b[39m_state\u001b[39m.\u001b[39mcode \u001b[39mis\u001b[39;00m \u001b[39mnot\u001b[39;00m \u001b[39mNone\u001b[39;00m\n\u001b[0;32m    956\u001b[0m     )\n\u001b[1;32m--> 958\u001b[0m _common\u001b[39m.\u001b[39;49mwait(\u001b[39mself\u001b[39;49m\u001b[39m.\u001b[39;49m_state\u001b[39m.\u001b[39;49mcondition\u001b[39m.\u001b[39;49mwait, _response_ready)\n\u001b[0;32m    959\u001b[0m \u001b[39mif\u001b[39;00m \u001b[39mself\u001b[39m\u001b[39m.\u001b[39m_state\u001b[39m.\u001b[39mresponse \u001b[39mis\u001b[39;00m \u001b[39mnot\u001b[39;00m \u001b[39mNone\u001b[39;00m:\n\u001b[0;32m    960\u001b[0m     response \u001b[39m=\u001b[39m \u001b[39mself\u001b[39m\u001b[39m.\u001b[39m_state\u001b[39m.\u001b[39mresponse\n",
      "File \u001b[1;32mc:\\winapp\\conda\\envs\\fresh\\lib\\site-packages\\grpc\\_common.py:156\u001b[0m, in \u001b[0;36mwait\u001b[1;34m(wait_fn, wait_complete_fn, timeout, spin_cb)\u001b[0m\n\u001b[0;32m    154\u001b[0m \u001b[39mif\u001b[39;00m timeout \u001b[39mis\u001b[39;00m \u001b[39mNone\u001b[39;00m:\n\u001b[0;32m    155\u001b[0m     \u001b[39mwhile\u001b[39;00m \u001b[39mnot\u001b[39;00m wait_complete_fn():\n\u001b[1;32m--> 156\u001b[0m         _wait_once(wait_fn, MAXIMUM_WAIT_TIMEOUT, spin_cb)\n\u001b[0;32m    157\u001b[0m \u001b[39melse\u001b[39;00m:\n\u001b[0;32m    158\u001b[0m     end \u001b[39m=\u001b[39m time\u001b[39m.\u001b[39mtime() \u001b[39m+\u001b[39m timeout\n",
      "File \u001b[1;32mc:\\winapp\\conda\\envs\\fresh\\lib\\site-packages\\grpc\\_common.py:116\u001b[0m, in \u001b[0;36m_wait_once\u001b[1;34m(wait_fn, timeout, spin_cb)\u001b[0m\n\u001b[0;32m    111\u001b[0m \u001b[39mdef\u001b[39;00m \u001b[39m_wait_once\u001b[39m(\n\u001b[0;32m    112\u001b[0m     wait_fn: Callable[\u001b[39m.\u001b[39m\u001b[39m.\u001b[39m\u001b[39m.\u001b[39m, \u001b[39mbool\u001b[39m],\n\u001b[0;32m    113\u001b[0m     timeout: \u001b[39mfloat\u001b[39m,\n\u001b[0;32m    114\u001b[0m     spin_cb: Optional[Callable[[], \u001b[39mNone\u001b[39;00m]],\n\u001b[0;32m    115\u001b[0m ):\n\u001b[1;32m--> 116\u001b[0m     wait_fn(timeout\u001b[39m=\u001b[39;49mtimeout)\n\u001b[0;32m    117\u001b[0m     \u001b[39mif\u001b[39;00m spin_cb \u001b[39mis\u001b[39;00m \u001b[39mnot\u001b[39;00m \u001b[39mNone\u001b[39;00m:\n\u001b[0;32m    118\u001b[0m         spin_cb()\n",
      "File \u001b[1;32mc:\\winapp\\conda\\envs\\fresh\\lib\\threading.py:324\u001b[0m, in \u001b[0;36mCondition.wait\u001b[1;34m(self, timeout)\u001b[0m\n\u001b[0;32m    322\u001b[0m \u001b[39melse\u001b[39;00m:\n\u001b[0;32m    323\u001b[0m     \u001b[39mif\u001b[39;00m timeout \u001b[39m>\u001b[39m \u001b[39m0\u001b[39m:\n\u001b[1;32m--> 324\u001b[0m         gotit \u001b[39m=\u001b[39m waiter\u001b[39m.\u001b[39;49macquire(\u001b[39mTrue\u001b[39;49;00m, timeout)\n\u001b[0;32m    325\u001b[0m     \u001b[39melse\u001b[39;00m:\n\u001b[0;32m    326\u001b[0m         gotit \u001b[39m=\u001b[39m waiter\u001b[39m.\u001b[39macquire(\u001b[39mFalse\u001b[39;00m)\n",
      "\u001b[1;31mKeyboardInterrupt\u001b[0m: "
     ]
    }
   ],
   "source": [
    "import os,time\n",
    "\n",
    "from langchain.output_parsers.json import SimpleJsonOutputParser\n",
    "\n",
    "jp = SimpleJsonOutputParser()\n",
    "gpt.temperature = 0.1\n",
    "for fn in os.listdir('content/text'):\n",
    "    text = open(f'content/text/{fn}','r',encoding='utf-8').read()\n",
    "    p = prompt.replace('{PAGE}',text)\n",
    "    res = gpt(p)\n",
    "    print(jp.parse(res))\n",
    "    time.sleep(1)"
   ]
  },
  {
   "cell_type": "code",
   "execution_count": null,
   "metadata": {},
   "outputs": [],
   "source": []
  },
  {
   "cell_type": "code",
   "execution_count": null,
   "metadata": {},
   "outputs": [],
   "source": []
  }
 ],
 "metadata": {
  "kernelspec": {
   "display_name": "fresh",
   "language": "python",
   "name": "python3"
  },
  "language_info": {
   "codemirror_mode": {
    "name": "ipython",
    "version": 3
   },
   "file_extension": ".py",
   "mimetype": "text/x-python",
   "name": "python",
   "nbconvert_exporter": "python",
   "pygments_lexer": "ipython3",
   "version": "3.10.13"
  }
 },
 "nbformat": 4,
 "nbformat_minor": 2
}
