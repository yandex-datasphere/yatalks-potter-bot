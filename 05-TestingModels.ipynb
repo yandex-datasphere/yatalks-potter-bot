{
 "cells": [
  {
   "cell_type": "markdown",
   "id": "92f706ca-8f0a-4f81-94a1-a0e9363ff2cc",
   "metadata": {},
   "source": [
    "## 05. Сравниваем модели\n",
    "\n",
    "В этом ноутбуке мы попробуем сравнить результаты трех моделей:\n",
    "\n",
    "* Необученного Yandex GPT\n",
    "* Yandex GPT с RAG\n",
    "* Fine-tuned Yandex GPT\n",
    "\n",
    "В качестве самостоятельного (достаточно простого) упражнения попробуйте также добавить вариант Fine-Tuned Yandex GPT + RAG.\n",
    "\n",
    "Для поддержки fine-tuned модели нам потребуется библиотека [yandex-chain](http://github.com/yandex-datasphere/yandex-chain):"
   ]
  },
  {
   "cell_type": "code",
   "execution_count": 5,
   "id": "a210adf2-4bb3-4de6-8610-f988e6697767",
   "metadata": {
    "execution": {
     "iopub.execute_input": "2023-12-02T19:33:40.703299Z",
     "iopub.status.busy": "2023-12-02T19:33:40.702591Z",
     "iopub.status.idle": "2023-12-02T19:33:42.539645Z",
     "shell.execute_reply": "2023-12-02T19:33:42.538929Z",
     "shell.execute_reply.started": "2023-12-02T19:33:40.703264Z"
    },
    "tags": []
   },
   "outputs": [
    {
     "data": {
      "text/plain": [
       "'Произносить заклинание невидимости будет легче и понятнее, если вы возьмете на себя труд выучить рифмы каждого заклинания. Для заклинания невидимости они\\xa0будут следующими:\\n\\nI summon shadows, gather in the night\\nCome over land, deep within my sight\\nYou may behold me, even if unseen\\nSwap form I will, yet remain the same. (3)\\nМногие\\xa0заклинания прописываются на\\xa0английском языке, так как он является наиболее распространённым в\\xa0мире магии, но также можно переводить их\\xa0на русский или любой другой язык. Существует большая часть заклинаний для красоты.'"
      ]
     },
     "execution_count": 5,
     "metadata": {},
     "output_type": "execute_result"
    }
   ],
   "source": [
    "import os\n",
    "\n",
    "from yandex_chain import YandexLLM\n",
    "\n",
    "gpt = YandexLLM(folder_id=\"\", api_key=os.environ[\"api_key\"])\n",
    "gpt(\"Как произносится заклинание невидимости?\")"
   ]
  },
  {
   "cell_type": "markdown",
   "id": "d0ca408f-3a10-4d8c-bdaa-8b075a5fea55",
   "metadata": {},
   "source": [
    "Теперь попробуем тоже самое для fine-tuned модели. Для этого нам понадобится знать специальный ключ **instruction uri**, который можно передать в объект `YandexLLM`.\n",
    "\n",
    "> Чтобы не возникало проблем с доступом, сервисный аккаунт, от имени которого вы ходите в Yandex GPT, должен быть добавлен в проект DataSphere, в котором вы осуществляли доучивание модели!"
   ]
  },
  {
   "cell_type": "code",
   "execution_count": 16,
   "id": "c5052480-4e9b-4f18-a4a5-d8c2ee3a45f9",
   "metadata": {
    "execution": {
     "iopub.execute_input": "2023-12-02T19:37:25.957132Z",
     "iopub.status.busy": "2023-12-02T19:37:25.956429Z",
     "iopub.status.idle": "2023-12-02T19:37:59.159509Z",
     "shell.execute_reply": "2023-12-02T19:37:59.158808Z",
     "shell.execute_reply.started": "2023-12-02T19:37:25.957089Z"
    },
    "tags": []
   },
   "outputs": [
    {
     "data": {
      "text/plain": [
       "'заклинание невидимости произносится как «ассио».'"
      ]
     },
     "execution_count": 16,
     "metadata": {},
     "output_type": "execute_result"
    }
   ],
   "source": [
    "instruction_uri = \"ds://bt1s5o0jbv9avtidu9ka\"\n",
    "fgpt = YandexLLM(\n",
    "    folder_id=\"\", instruction_uri=instruction_uri, api_key=os.environ[\"api_key\"]\n",
    ")\n",
    "fgpt.temperature = 0.4\n",
    "fgpt(\"Как произносится заклинание невидимости?\")"
   ]
  },
  {
   "cell_type": "markdown",
   "id": "5fbe2686-4d1b-42a1-b4bc-bdd831cccc43",
   "metadata": {},
   "source": [
    "Теперь для сравнения быстренько соберём конвейер Retrieval-Augmented Generation из ноутбука 03:"
   ]
  },
  {
   "cell_type": "code",
   "execution_count": 20,
   "id": "45f27ced-70ee-4458-9e01-8c358007f8fb",
   "metadata": {
    "execution": {
     "iopub.execute_input": "2023-12-02T19:41:04.130185Z",
     "iopub.status.busy": "2023-12-02T19:41:04.129484Z",
     "iopub.status.idle": "2023-12-02T19:41:09.226734Z",
     "shell.execute_reply": "2023-12-02T19:41:09.226071Z",
     "shell.execute_reply.started": "2023-12-02T19:41:04.130149Z"
    },
    "tags": []
   },
   "outputs": [
    {
     "data": {
      "text/plain": [
       "'Это непростой вопрос. Предлагаю следующие варианты произношения: антАйгчесинг спилл\\nантАигачнас пилл;\\xa0спилл\\nанти исДжесинг точка пилв\\nантэйческий спилл.'"
      ]
     },
     "execution_count": 20,
     "metadata": {},
     "output_type": "execute_result"
    }
   ],
   "source": [
    "import lancedb\n",
    "import langchain.chains\n",
    "import langchain.prompts\n",
    "from langchain.vectorstores import LanceDB\n",
    "from yandex_chain import YandexEmbeddings\n",
    "\n",
    "db_dir = \"store\"\n",
    "db = lancedb.connect(db_dir)\n",
    "table = db.open_table(\"vector_index\")\n",
    "embeddings = YandexEmbeddings(folder_id=\"\", api_key=os.environ[\"api_key\"])\n",
    "vec_store = LanceDB(table, embeddings)\n",
    "retriever = vec_store.as_retriever(search_kwargs={\"k\": 5})\n",
    "\n",
    "# Промпт для обработки документов\n",
    "document_prompt = langchain.prompts.PromptTemplate(\n",
    "    input_variables=[\"page_content\"], template=\"{page_content}\"\n",
    ")\n",
    "\n",
    "# Промпт для языковой модели\n",
    "document_variable_name = \"context\"\n",
    "stuff_prompt_override = \"\"\"\n",
    "Пожалуйста, посмотри на текст ниже и ответь на вопрос, используя информацию из этого текста.\n",
    "Текст:\n",
    "-----\n",
    "{context}\n",
    "-----\n",
    "Вопрос:\n",
    "{query}\"\"\"\n",
    "prompt = langchain.prompts.PromptTemplate(\n",
    "    template=stuff_prompt_override, input_variables=[\"context\", \"query\"]\n",
    ")\n",
    "\n",
    "# Создаём цепочку\n",
    "llm_chain = langchain.chains.LLMChain(llm=gpt, prompt=prompt)\n",
    "chain = langchain.chains.StuffDocumentsChain(\n",
    "    llm_chain=llm_chain,\n",
    "    document_prompt=document_prompt,\n",
    "    document_variable_name=document_variable_name,\n",
    ")\n",
    "\n",
    "\n",
    "def answer(query):\n",
    "    results = retriever.get_relevant_documents(query)\n",
    "    return chain.run(input_documents=results, query=query)\n",
    "\n",
    "\n",
    "answer(\"Как произносится заклинание невидимости?\")"
   ]
  },
  {
   "cell_type": "markdown",
   "id": "b2911613-da6b-40ce-b6ae-63adacefbbbd",
   "metadata": {},
   "source": [
    "Теперь сделаем функцию, которая выводит для сравнения сразу три ответа на поставленный вопрос. Мы также дадим возможность задавать температуру моделей для генерации:"
   ]
  },
  {
   "cell_type": "code",
   "execution_count": 21,
   "id": "e3d8905a-699c-411b-8ef2-c369e02c75f7",
   "metadata": {
    "execution": {
     "iopub.execute_input": "2023-12-02T19:43:12.753301Z",
     "iopub.status.busy": "2023-12-02T19:43:12.752559Z",
     "iopub.status.idle": "2023-12-02T19:43:31.427067Z",
     "shell.execute_reply": "2023-12-02T19:43:31.426150Z",
     "shell.execute_reply.started": "2023-12-02T19:43:12.753266Z"
    }
   },
   "outputs": [
    {
     "name": "stdout",
     "output_type": "stream",
     "text": [
      "Ответ YGPT: Вингардиум Левиоса (англ. Wingardium Leviosa) — заклинание, вызывающее левитацию предмета.\n",
      "\n",
      "В книге «Гарри Поттер и философский камень» Гарри Поттер, пытаясь научиться заклинанию левитации, произносит «Вингардиум Левиоса», но ничего не происходит. Профессор МакГонагалл объясняет ему, что для того, чтобы заклинание сработало, необходимо верить в то, что оно сработает. После этого у Гарри получается поднять перо в воздух.\n",
      "\n",
      "В фильме «Гарри Поттер и философский камень» роль заклинания «Вингардиум Левиоса» играет заклинание «Локомотор», вызывающее движение предмета в заданном направлении.\n",
      "Ответ RAG: Вингардиум Левиоса — это заклинание, которое позволяет поднимать предметы в воздух.\n",
      "Ответ Fine-Tune: Заклинание Левитации\n"
     ]
    }
   ],
   "source": [
    "def compare(q, temperature=0.1):\n",
    "    gpt.temperature = temperature\n",
    "    fgpt.temperature = temperature\n",
    "    print(f\"Ответ YGPT: {gpt(q)}\")\n",
    "    print(f\"Ответ RAG: {answer(q)}\")\n",
    "    print(f\"Ответ Fine-Tune: {fgpt(q)}\")\n",
    "\n",
    "\n",
    "compare(\"Что означает Вингардиум Левиоса\")"
   ]
  },
  {
   "cell_type": "markdown",
   "id": "6a2babae-a22c-40d2-948b-527e273e7605",
   "metadata": {},
   "source": [
    "Оставляем на ваше самостоятельное усмотрение дальнейшие эксперименты с этими моделями! Поговорите с ними!"
   ]
  }
 ],
 "metadata": {
  "kernelspec": {
   "display_name": "DataSphere Kernel",
   "language": "python",
   "name": "python3"
  },
  "language_info": {
   "codemirror_mode": {
    "name": "ipython",
    "version": 3
   },
   "file_extension": ".py",
   "mimetype": "text/x-python",
   "name": "python",
   "nbconvert_exporter": "python",
   "pygments_lexer": "ipython3",
   "version": "3.7.7"
  }
 },
 "nbformat": 4,
 "nbformat_minor": 5
}
