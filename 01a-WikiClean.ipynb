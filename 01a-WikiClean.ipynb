{
 "cells": [
  {
   "cell_type": "markdown",
   "metadata": {},
   "source": [
    "## Очистка текста из Wiki с помощью Yandex GPT\n",
    "\n",
    "Полученные тексты из Wiki можно дополнительно очистить с помощью большой языковой модели. Учитывая достаточно большой объем информации, эта процедура будет существенной с точки зрения стоимости, поэтому лучше использовать асинхронный режим работы YandexGPT.\n",
    "\n",
    "Используем версию `yandex_chain` старше 0.0.10, которая поддерживает аснхронный режим работы."
   ]
  },
  {
   "cell_type": "code",
   "execution_count": 5,
   "metadata": {},
   "outputs": [],
   "source": [
    "from yandex_chain import YandexLLM, YandexGPTModel\n",
    "\n",
    "llm = YandexLLM(config=\"config.json\",model=YandexGPTModel.LiteRC,max_tokens=6000)"
   ]
  },
  {
   "cell_type": "markdown",
   "metadata": {},
   "source": [
    "Отработаем промпт на каком-то одном примере:"
   ]
  },
  {
   "cell_type": "code",
   "execution_count": null,
   "metadata": {},
   "outputs": [],
   "source": [
    "with open('content/text/Аберфорт Дамблдор.txt',encoding='utf-8') as f:\n",
    "    text = f.read()\n",
    "\n",
    "prompt = \"\"\"\n",
    "Ты - редактор, готовящий материалы о Гарри Поттере для базы знаний чат-бота. Тебе на вход в \n",
    "тройных обратных кавычках подаётся текст, извлечённый из Wikipedia, содержащий какой-то мусор, \n",
    "повторения текста и другие ошибки форматирования. Твоя задача переписать этот текст в виде\n",
    "аккуратного связного текста в текстовом формате, сохраняя все смысловые элементы текста без\n",
    "изменений.\n",
    "Текст: ```{}```\n",
    "\"\"\"\n",
    "\n",
    "response = llm.invoke(prompt.format(text))\n",
    "print(response)"
   ]
  },
  {
   "cell_type": "markdown",
   "metadata": {},
   "source": [
    "Теперь напишем цикл, который будет брать файлы из директории `text` и планировать их для обработки в асинхронном режиме. Для этого создадим словарь, в котором ключами будут идентификаторы запросов, а значениями - имена файлов. Ограничим количество файлов - 1000 за раз."
   ]
  },
  {
   "cell_type": "code",
   "execution_count": 41,
   "metadata": {},
   "outputs": [
    {
     "name": "stderr",
     "output_type": "stream",
     "text": [
      "  3%|▎         | 20/689 [23:35<13:08:52, 70.75s/it]\n",
      "  0%|          | 1/1000 [00:00<15:17,  1.09it/s]\n",
      "  0%|          | 1/999 [00:02<41:40,  2.51s/it]"
     ]
    }
   ],
   "source": [
    "import os\n",
    "from tqdm.auto import tqdm\n",
    "import json\n",
    "\n",
    "c = 1000\n",
    "jobs = {}\n",
    "pb = tqdm(total=c)\n",
    "for fn in os.listdir('content/text'):\n",
    "    if os.path.exists(os.path.join('content/ctext',fn)):\n",
    "        continue\n",
    "    else:\n",
    "        pb.update(1)\n",
    "        c-=1\n",
    "        with open(os.path.join('content/text',fn),encoding='utf-8') as f:\n",
    "            text = f.read()\n",
    "        id = llm.invokeAsync(prompt.format(text))\n",
    "        jobs[id] = fn\n",
    "        if c<0:\n",
    "            break\n",
    "\n",
    "with open('ids.json','w',encoding='utf-8') as f:\n",
    "    json.dump(jobs,f,ensure_ascii=False)\n"
   ]
  },
  {
   "cell_type": "markdown",
   "metadata": {},
   "source": [
    "Теперь сделаем цикл ожидания, и все обработанные файлы будем записывать на диск в другую директорию `ctext` (clean text):"
   ]
  },
  {
   "cell_type": "code",
   "execution_count": 43,
   "metadata": {},
   "outputs": [],
   "source": [
    "while True:\n",
    "    for k,v in jobs.items():\n",
    "        c = 0\n",
    "        if v is not None:\n",
    "            try:\n",
    "                res = llm.checkAsyncResult(k)\n",
    "            except:\n",
    "                print(f\"Error processing job {k}, fn={v}\")\n",
    "                res = \"ERROR\"\n",
    "            if res:\n",
    "                with open(os.path.join('content/ctext',v),'w',encoding='utf-8') as f:\n",
    "                    f.write(res)\n",
    "                print(f\"Job {k} done\")\n",
    "                jobs[k] = None\n",
    "            else:\n",
    "                c+=1\n",
    "    if c==0:\n",
    "        break\n",
    "                "
   ]
  },
  {
   "cell_type": "markdown",
   "metadata": {},
   "source": [
    "Если мы поочередно запустим эти ячейки несколько раз, то все файлы по итогу окажутся обработанными."
   ]
  }
 ],
 "metadata": {
  "kernelspec": {
   "display_name": "fresh",
   "language": "python",
   "name": "python3"
  },
  "language_info": {
   "codemirror_mode": {
    "name": "ipython",
    "version": 3
   },
   "file_extension": ".py",
   "mimetype": "text/x-python",
   "name": "python",
   "nbconvert_exporter": "python",
   "pygments_lexer": "ipython3",
   "version": "3.10.13"
  }
 },
 "nbformat": 4,
 "nbformat_minor": 2
}
