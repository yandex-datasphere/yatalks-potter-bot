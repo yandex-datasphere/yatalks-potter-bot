{
 "cells": [
  {
   "cell_type": "markdown",
   "id": "ee149ac5",
   "metadata": {
    "cellId": "mes8twdaihp199vumyadbj",
    "execution_id": "dd6efd9c-99e4-4ce2-b68d-5a6249bf0a13"
   },
   "source": [
    "## 03. Строим вопрос-ответного бота по технологии Retrieval-Augmented Generation на LangChain\n",
    "\n",
    "[LangChain](https://python.langchain.com) - это набирающая популярность библиотека для работы с большими языковыми моделями и для построения конвейеров обработки текстовых данных. В одной библиотеке присутствуют все элементы, которые помогут нам создать вопрос-ответного бота на наборе текстовых данных: вычисление эмбеддингов, запуск больших языковых моделей для генерации текста, поиск по ключу в векторных базах данных и т.д.\n",
    "\n",
    "Для начала, установим `langchain` и сопутствующие библиотеки."
   ]
  },
  {
   "cell_type": "code",
   "execution_count": 4,
   "id": "e26382e7",
   "metadata": {
    "cellId": "yzdzyw1o8ujhmnrk4xly6m",
    "execution": {
     "iopub.execute_input": "2023-11-29T17:01:30.219208Z",
     "iopub.status.busy": "2023-11-29T17:01:30.218604Z",
     "iopub.status.idle": "2023-11-29T17:01:35.163859Z",
     "shell.execute_reply": "2023-11-29T17:01:35.163075Z",
     "shell.execute_reply.started": "2023-11-29T17:01:30.219168Z"
    },
    "tags": []
   },
   "outputs": [
    {
     "name": "stdout",
     "output_type": "stream",
     "text": [
      "\u001b[33m  WARNING: The script normalizer is installed in '/home/jupyter/.local/bin' which is not on PATH.\n",
      "  Consider adding this directory to PATH or, if you prefer to suppress this warning, use --no-warn-script-location.\u001b[0m\u001b[33m\n",
      "\u001b[0m\n",
      "\u001b[1m[\u001b[0m\u001b[34;49mnotice\u001b[0m\u001b[1;39;49m]\u001b[0m\u001b[39;49m A new release of pip is available: \u001b[0m\u001b[31;49m23.2.1\u001b[0m\u001b[39;49m -> \u001b[0m\u001b[32;49m23.3.1\u001b[0m\n",
      "\u001b[1m[\u001b[0m\u001b[34;49mnotice\u001b[0m\u001b[1;39;49m]\u001b[0m\u001b[39;49m To update, run: \u001b[0m\u001b[32;49mpython3 -m pip install --upgrade pip\u001b[0m\n"
     ]
    },
    {
     "name": "stderr",
     "output_type": "stream",
     "text": [
      " 37%|███▋      | 2407/6541 [01:00<01:29, 46.02it/s]"
     ]
    }
   ],
   "source": [
    "%pip install -q langchain sentence_transformers lancedb unstructured yandex_chain yandexcloud"
   ]
  },
  {
   "cell_type": "markdown",
   "id": "d0bf3cbc-24e8-4cee-84b4-cd4773454d8c",
   "metadata": {
    "cellId": "01gt55s25xlq8thmgt142tx",
    "execution_id": "202bd627-2f9f-4492-928d-9d30336acd19",
    "tags": []
   },
   "source": [
    "## Разбиваем документ на части\n",
    "\n",
    "Работа Retrieval-Augmented Generation основана на тексте, который мы извлекли из Вики в первом ноутбуке. Если вы пропустили этот этап (например, в рамках мастер-класса), то распакуйте заготовленный текст, выполнив следующую ячейку. Также в этот текст можно добавить распознанный текст с видео, полученный в результате выполнения предыдущего ноутбука."
   ]
  },
  {
   "cell_type": "code",
   "execution_count": null,
   "id": "fcd8fa52-ae36-4021-9ce4-27b7c41e867f",
   "metadata": {},
   "outputs": [],
   "source": [
    "!7za x /home/jupyter/datasphere/s3/s3store/mcdata/harry_text.zip"
   ]
  },
  {
   "cell_type": "markdown",
   "id": "33c62f03-5758-4881-95ca-3e010fbd8cf7",
   "metadata": {
    "cellId": "01gt55s25xlq8thmgt142tx",
    "execution_id": "202bd627-2f9f-4492-928d-9d30336acd19",
    "jp-MarkdownHeadingCollapsed": true,
    "tags": []
   },
   "source": [
    "Для работы retrival augmented generation нам необходимо по запросу найти наиболее релевантные фрагменты исходного текста, на основе которых будет формироваться ответ. Для этого нам надо разбить текст на такие фрагменты, по которым мы сможем вычислять эмбеддинг, и которые будут с запасом помещаться во входное окно используемой большой языковой модели.\n",
    "\n",
    "Для этого можно использовать механизмы фреймворка LangChain - например, `RecursiveCharacterTextSplitter`. Он разбивает текст на перекрывающиеся фрагменты по набору типовых разделителей - абзацы, переводы строк, разделители слов.\n",
    "\n",
    "> **ВАЖНО**: Перед выполнением ячейки не забудьте установить имя пользователя, которое вы использовали на предыдущем шаге.\n",
    "\n",
    "Размер `chunk_size` нужно выбирать исходя из нескольких показателей:\n",
    "* Допустимая длина контекста для эмбеддинг-модели. Yandex GPT Embeddings допускают 2048 токенов, в то время как многие открытые модели HuggingFace имеют длину контекста 512-1024 токена\n",
    "* Допустимый размер окна контекста большой языковой модели. Если мы хотим использовать в запросе top 3 результатов поиска, то 3 * chunk_size+prompt_size+response_size должно не превышать длины контекста модели."
   ]
  },
  {
   "cell_type": "code",
   "execution_count": 1,
   "id": "3c9d383f",
   "metadata": {
    "cellId": "503n864wu3akn1mjo318yj",
    "execution": {
     "iopub.execute_input": "2023-11-30T08:04:37.637644Z",
     "iopub.status.busy": "2023-11-30T08:04:37.636965Z",
     "iopub.status.idle": "2023-11-30T08:07:11.675291Z",
     "shell.execute_reply": "2023-11-30T08:07:11.674588Z",
     "shell.execute_reply.started": "2023-11-30T08:04:37.637603Z"
    },
    "tags": []
   },
   "outputs": [
    {
     "name": "stderr",
     "output_type": "stream",
     "text": [
      "100%|██████████| 6541/6541 [02:25<00:00, 44.98it/s]\n"
     ]
    },
    {
     "data": {
      "text/plain": [
       "22985"
      ]
     },
     "execution_count": 1,
     "metadata": {},
     "output_type": "execute_result"
    }
   ],
   "source": [
    "import langchain\n",
    "import langchain.document_loaders\n",
    "\n",
    "user = \"shwars\"\n",
    "chunk_size = 1024\n",
    "chunk_overlap = 50\n",
    "source_dir = \"content\"\n",
    "\n",
    "loader = langchain.document_loaders.DirectoryLoader(\n",
    "    source_dir, glob=\"*.txt\", show_progress=True, recursive=True\n",
    ")\n",
    "splitter = langchain.text_splitter.RecursiveCharacterTextSplitter(\n",
    "    chunk_size=chunk_size, chunk_overlap=chunk_overlap\n",
    ")\n",
    "fragments = splitter.create_documents([x.page_content for x in loader.load()])\n",
    "len(fragments)"
   ]
  },
  {
   "cell_type": "markdown",
   "id": "9068ad70",
   "metadata": {
    "cellId": "xmlbo4mkcqt1zjx877mza1",
    "execution_id": "1a16dc51-9ba9-4725-875d-f9a085e1e587"
   },
   "source": [
    "## Вычисляем эмбеддинги для всех фрагментов\n",
    "\n",
    "Для вычисления эмбеддингов можно взять какую-нибудь модель из репозитория HuggingFace, с поддержкой русского языка. LangChain содержит свои встроенные средства работы с эмбеддингами, и поддерживает модели из HuggingFace: "
   ]
  },
  {
   "cell_type": "code",
   "execution_count": 2,
   "id": "618d852c",
   "metadata": {
    "cellId": "lnsg67kshqfp494yccul07",
    "execution": {
     "iopub.execute_input": "2023-11-29T17:04:53.290350Z",
     "iopub.status.busy": "2023-11-29T17:04:53.289247Z",
     "iopub.status.idle": "2023-11-29T17:05:37.496702Z",
     "shell.execute_reply": "2023-11-29T17:05:37.495934Z",
     "shell.execute_reply.started": "2023-11-29T17:04:53.290307Z"
    }
   },
   "outputs": [
    {
     "data": {
      "application/vnd.jupyter.widget-view+json": {
       "model_id": "d83dcb7b28b44f3f8cbe21b9e420671a",
       "version_major": 2,
       "version_minor": 0
      },
      "text/plain": [
       "Downloading .gitattributes:   0%|          | 0.00/690 [00:00<?, ?B/s]"
      ]
     },
     "metadata": {},
     "output_type": "display_data"
    },
    {
     "data": {
      "application/vnd.jupyter.widget-view+json": {
       "model_id": "4183d903abb040b283c08a90d13eb337",
       "version_major": 2,
       "version_minor": 0
      },
      "text/plain": [
       "Downloading 1_Pooling/config.json:   0%|          | 0.00/190 [00:00<?, ?B/s]"
      ]
     },
     "metadata": {},
     "output_type": "display_data"
    },
    {
     "data": {
      "application/vnd.jupyter.widget-view+json": {
       "model_id": "b5159b12438e419ca14805a5fde2406a",
       "version_major": 2,
       "version_minor": 0
      },
      "text/plain": [
       "Downloading 2_Dense/config.json:   0%|          | 0.00/114 [00:00<?, ?B/s]"
      ]
     },
     "metadata": {},
     "output_type": "display_data"
    },
    {
     "data": {
      "application/vnd.jupyter.widget-view+json": {
       "model_id": "b3f76725ab6e416db936474ba0738470",
       "version_major": 2,
       "version_minor": 0
      },
      "text/plain": [
       "Downloading pytorch_model.bin:   0%|          | 0.00/1.58M [00:00<?, ?B/s]"
      ]
     },
     "metadata": {},
     "output_type": "display_data"
    },
    {
     "data": {
      "application/vnd.jupyter.widget-view+json": {
       "model_id": "180ecae900474355bb1206a2d262edae",
       "version_major": 2,
       "version_minor": 0
      },
      "text/plain": [
       "Downloading README.md:   0%|          | 0.00/2.45k [00:00<?, ?B/s]"
      ]
     },
     "metadata": {},
     "output_type": "display_data"
    },
    {
     "data": {
      "application/vnd.jupyter.widget-view+json": {
       "model_id": "dd512ff1f72a4293849ff01627545cf3",
       "version_major": 2,
       "version_minor": 0
      },
      "text/plain": [
       "Downloading config.json:   0%|          | 0.00/556 [00:00<?, ?B/s]"
      ]
     },
     "metadata": {},
     "output_type": "display_data"
    },
    {
     "data": {
      "application/vnd.jupyter.widget-view+json": {
       "model_id": "721f52df3d26476fbc91b404dbdfb8c3",
       "version_major": 2,
       "version_minor": 0
      },
      "text/plain": [
       "Downloading (…)ce_transformers.json:   0%|          | 0.00/122 [00:00<?, ?B/s]"
      ]
     },
     "metadata": {},
     "output_type": "display_data"
    },
    {
     "data": {
      "application/vnd.jupyter.widget-view+json": {
       "model_id": "432d562068a44b2bbcf4d5f4b6d72d40",
       "version_major": 2,
       "version_minor": 0
      },
      "text/plain": [
       "Downloading pytorch_model.bin:   0%|          | 0.00/539M [00:00<?, ?B/s]"
      ]
     },
     "metadata": {},
     "output_type": "display_data"
    },
    {
     "data": {
      "application/vnd.jupyter.widget-view+json": {
       "model_id": "2f7e541a4aff4fdfba0153cf19d9a2fb",
       "version_major": 2,
       "version_minor": 0
      },
      "text/plain": [
       "Downloading (…)nce_bert_config.json:   0%|          | 0.00/53.0 [00:00<?, ?B/s]"
      ]
     },
     "metadata": {},
     "output_type": "display_data"
    },
    {
     "data": {
      "application/vnd.jupyter.widget-view+json": {
       "model_id": "556e4da73e254e72a5e5a0720a755b3c",
       "version_major": 2,
       "version_minor": 0
      },
      "text/plain": [
       "Downloading (…)cial_tokens_map.json:   0%|          | 0.00/112 [00:00<?, ?B/s]"
      ]
     },
     "metadata": {},
     "output_type": "display_data"
    },
    {
     "data": {
      "application/vnd.jupyter.widget-view+json": {
       "model_id": "53760923145b42d1bf4883d7b7dbe5c6",
       "version_major": 2,
       "version_minor": 0
      },
      "text/plain": [
       "Downloading tokenizer.json:   0%|          | 0.00/1.96M [00:00<?, ?B/s]"
      ]
     },
     "metadata": {},
     "output_type": "display_data"
    },
    {
     "data": {
      "application/vnd.jupyter.widget-view+json": {
       "model_id": "07d9b110e76a4ac79fac928b8a60e689",
       "version_major": 2,
       "version_minor": 0
      },
      "text/plain": [
       "Downloading tokenizer_config.json:   0%|          | 0.00/452 [00:00<?, ?B/s]"
      ]
     },
     "metadata": {},
     "output_type": "display_data"
    },
    {
     "data": {
      "application/vnd.jupyter.widget-view+json": {
       "model_id": "f439d0c66c16489cacea64805b06c07b",
       "version_major": 2,
       "version_minor": 0
      },
      "text/plain": [
       "Downloading vocab.txt:   0%|          | 0.00/996k [00:00<?, ?B/s]"
      ]
     },
     "metadata": {},
     "output_type": "display_data"
    },
    {
     "data": {
      "application/vnd.jupyter.widget-view+json": {
       "model_id": "360c5d00cc064aa7ac55e3a038fad54e",
       "version_major": 2,
       "version_minor": 0
      },
      "text/plain": [
       "Downloading modules.json:   0%|          | 0.00/341 [00:00<?, ?B/s]"
      ]
     },
     "metadata": {},
     "output_type": "display_data"
    },
    {
     "name": "stderr",
     "output_type": "stream",
     "text": [
      "2023-11-29 17:05:22.838316: W tensorflow/compiler/tf2tensorrt/utils/py_utils.cc:38] TF-TRT Warning: Could not find TensorRT\n"
     ]
    },
    {
     "data": {
      "text/plain": [
       "512"
      ]
     },
     "execution_count": 2,
     "metadata": {},
     "output_type": "execute_result"
    }
   ],
   "source": [
    "embeddings = langchain.embeddings.HuggingFaceEmbeddings(\n",
    "    model_name=\"distiluse-base-multilingual-cased-v1\"\n",
    ")\n",
    "sample_vec = embeddings.embed_query(\"Hello, world!\")\n",
    "len(sample_vec)"
   ]
  },
  {
   "cell_type": "markdown",
   "id": "62246051-d183-44f3-812c-4a7a9b386b38",
   "metadata": {},
   "source": [
    "Также можно использовать более продвинутую модель [эмбеддингов от Yandex GPT](https://cloud.yandex.ru/docs/yandexgpt/api-ref/Embeddings/). Для работы с ней используем библиотеку [yandex_chain](http://githib.com/yandex-datasphere/yandex-chain], пока соответствующая поддержка не появилась в LangChain. Нам также потребуется `folder_id` в соответствии с вашими данными.\n",
    "\n",
    "> Не забудьте добавить секрет **api_key** в свой проект DataSphere!> Не забудьте добавить секрет **api_key** в свой проект DataSphere!"
   ]
  },
  {
   "cell_type": "code",
   "execution_count": 1,
   "id": "53477e4b-df1b-47c0-9de5-4736e62966c1",
   "metadata": {
    "execution": {
     "iopub.execute_input": "2023-11-30T08:42:37.992636Z",
     "iopub.status.busy": "2023-11-30T08:42:37.991432Z",
     "iopub.status.idle": "2023-11-30T08:42:38.060472Z",
     "shell.execute_reply": "2023-11-30T08:42:38.056416Z",
     "shell.execute_reply.started": "2023-11-30T08:42:37.992587Z"
    },
    "tags": []
   },
   "outputs": [],
   "source": [
    "import os\n",
    "\n",
    "api_key = os.environ[\"api_key\"]\n",
    "folder_id = \"b1g6krtrd2vcbunvjpg6\""
   ]
  },
  {
   "cell_type": "code",
   "execution_count": 2,
   "id": "1a9a5705",
   "metadata": {
    "cellId": "nfqfqhfm1o008d49oy4786s",
    "execution": {
     "iopub.execute_input": "2023-11-30T08:42:38.908864Z",
     "iopub.status.busy": "2023-11-30T08:42:38.908143Z",
     "iopub.status.idle": "2023-11-30T08:42:39.598247Z",
     "shell.execute_reply": "2023-11-30T08:42:39.597539Z",
     "shell.execute_reply.started": "2023-11-30T08:42:38.908829Z"
    },
    "tags": []
   },
   "outputs": [
    {
     "data": {
      "text/plain": [
       "256"
      ]
     },
     "execution_count": 2,
     "metadata": {},
     "output_type": "execute_result"
    }
   ],
   "source": [
    "from yandex_chain import YandexEmbeddings\n",
    "\n",
    "embeddings = YandexEmbeddings(folder_id=folder_id, api_key=api_key)\n",
    "vec = embeddings.embed_query(\"Hello, world!\")\n",
    "len(vec)"
   ]
  },
  {
   "cell_type": "markdown",
   "id": "9f6f614d",
   "metadata": {
    "cellId": "q5znrcj1wan9h6ddvj28p",
    "execution_id": "dbfc733d-c9d0-4c6f-af7c-301b3d231364"
   },
   "source": [
    "### Cохраняем эмбеддинги  в векторную БД\n",
    "\n",
    "Для поиска нам нужно уметь быстро сопоставлять эмбеддинг запроса, и эмбеддинги всех фрагементов наших исходных материалов. Для этого используются векторные базы данных. Для крупных проектов имеет смысл использовать серьезные инструменты, типа [OpenSearch](https://opensearch.org/) (доступный [в виде сервиса в облаке Yandex Cloud](https://cloud.yandex.ru/services/managed-opensearch)), но для нашего примера мы используем небольшую векторную БД [LanceDB](https://lancedb.com/), хранящую индекс в директории на диске.\n",
    "\n",
    "Первоначально создадим базу данных, добавив туда одну строчку:"
   ]
  },
  {
   "cell_type": "code",
   "execution_count": 8,
   "id": "475fab93",
   "metadata": {
    "cellId": "5tmslotcscignkmh50g49p",
    "execution": {
     "iopub.execute_input": "2023-11-29T17:06:48.991915Z",
     "iopub.status.busy": "2023-11-29T17:06:48.991052Z",
     "iopub.status.idle": "2023-11-29T17:06:52.363536Z",
     "shell.execute_reply": "2023-11-29T17:06:52.362833Z",
     "shell.execute_reply.started": "2023-11-29T17:06:48.991869Z"
    }
   },
   "outputs": [],
   "source": [
    "import os\n",
    "\n",
    "import lancedb\n",
    "from langchain.vectorstores import LanceDB\n",
    "\n",
    "db_dir = \"store\"\n",
    "\n",
    "os.makedirs(db_dir, exist_ok=True)\n",
    "\n",
    "db = lancedb.connect(db_dir)\n",
    "table = db.create_table(\n",
    "    \"vector_index\",\n",
    "    data=[\n",
    "        {\n",
    "            \"vector\": embeddings.embed_query(\"Hello World\"),\n",
    "            \"text\": \"Hello World\",\n",
    "            \"id\": \"1\",\n",
    "        }\n",
    "    ],\n",
    "    mode=\"overwrite\",\n",
    ")"
   ]
  },
  {
   "cell_type": "markdown",
   "id": "1cabc989-711a-40c0-8f2a-784a533e996d",
   "metadata": {},
   "source": [
    "Далее проиндексируем все выделенные ранее фрагменты нашей документации, используя реализованный нами выше адаптер для YandexGPT-эмбеддингов. \n",
    "\n",
    "> В зависимости от объема текста, эта ячейка может выполняться достаточно длительное время - вспомним про задержку в 1 сек между запросами! Если вы хотите посмотреть на работу бота в рамках мастер-класса - пропустите следующую ячейку, и загрузите готовую базу с эмбеддингами, выполнив ячейку ниже!"
   ]
  },
  {
   "cell_type": "code",
   "execution_count": null,
   "id": "bcaa8e7d",
   "metadata": {
    "cellId": "j0bkb4g6igstk2umstio2j",
    "execution": {
     "iopub.execute_input": "2023-11-29T17:07:04.441358Z",
     "iopub.status.busy": "2023-11-29T17:07:04.440358Z"
    }
   },
   "outputs": [],
   "source": [
    "# не выполняйте эту ячейку в рамках мастер-класса - она\n",
    "# выполняется долго...\n",
    "db = LanceDB.from_documents(fragments, embeddings, connection=table)"
   ]
  },
  {
   "cell_type": "markdown",
   "id": "ae3d09ec-52e6-4886-8a48-01585ad775e3",
   "metadata": {},
   "source": [
    "В рамках мастер-класса воспользуемся готовой проиндексированной базой данных:"
   ]
  },
  {
   "cell_type": "code",
   "execution_count": 15,
   "id": "b7324312-b729-41b1-9b01-2df9f8a81da5",
   "metadata": {
    "execution": {
     "iopub.execute_input": "2023-11-30T08:32:12.942650Z",
     "iopub.status.busy": "2023-11-30T08:32:12.941938Z",
     "iopub.status.idle": "2023-11-30T08:32:13.699740Z",
     "shell.execute_reply": "2023-11-30T08:32:13.699014Z",
     "shell.execute_reply.started": "2023-11-30T08:32:12.942617Z"
    },
    "tags": []
   },
   "outputs": [
    {
     "name": "stdout",
     "output_type": "stream",
     "text": [
      "\n",
      "7-Zip (a) [64] 16.02 : Copyright (c) 1999-2016 Igor Pavlov : 2016-05-21\n",
      "p7zip Version 16.02 (locale=C.UTF-8,Utf16=on,HugeFiles=on,64 bits,4 CPUs Intel Xeon Processor (Icelake) (606A0),ASM,AES-NI)\n",
      "\n",
      "Scanning the drive for archives:\n",
      "1 file, 20501673 bytes (20 MiB)\n",
      "\n",
      "Extracting archive: /home/jupyter/datasphere/s3/s3store/mcdata/vector_store.zip\n",
      "--\n",
      "Path = /home/jupyter/datasphere/s3/s3store/mcdata/vector_store.zip\n",
      "Type = zip\n",
      "Physical Size = 20501673\n",
      "\n",
      "Everything is Ok\n",
      "\n",
      "Folders: 5\n",
      "Files: 7\n",
      "Size:       51797553\n",
      "Compressed: 20501673\n"
     ]
    }
   ],
   "source": [
    "!rm -rf store\n",
    "!7za x /home/jupyter/datasphere/s3/s3store/mcdata/vector_store.zip"
   ]
  },
  {
   "cell_type": "code",
   "execution_count": 3,
   "id": "f3ee8720-d4c0-4a99-a046-dac62489a643",
   "metadata": {
    "execution": {
     "iopub.execute_input": "2023-11-30T08:42:46.287863Z",
     "iopub.status.busy": "2023-11-30T08:42:46.287034Z",
     "iopub.status.idle": "2023-11-30T08:42:46.364188Z",
     "shell.execute_reply": "2023-11-30T08:42:46.363414Z",
     "shell.execute_reply.started": "2023-11-30T08:42:46.287820Z"
    },
    "tags": []
   },
   "outputs": [],
   "source": [
    "import lancedb\n",
    "from langchain.vectorstores import LanceDB\n",
    "\n",
    "db_dir = \"store\"\n",
    "db = lancedb.connect(db_dir)\n",
    "table = db.open_table(\"vector_index\")\n",
    "vec_store = LanceDB(table, embeddings)"
   ]
  },
  {
   "cell_type": "markdown",
   "id": "6dfb33a2-2946-4c60-899b-f4c0d6ddcbfc",
   "metadata": {},
   "source": [
    "Теперь посмотрим, насколько хорошо находятся фрагменты текста по какому-то запросу:"
   ]
  },
  {
   "cell_type": "code",
   "execution_count": 4,
   "id": "2f4be3a5",
   "metadata": {
    "cellId": "fdty939nkuf433bv37l2cs",
    "execution": {
     "iopub.execute_input": "2023-11-30T08:42:49.746405Z",
     "iopub.status.busy": "2023-11-30T08:42:49.745254Z",
     "iopub.status.idle": "2023-11-30T08:42:49.946932Z",
     "shell.execute_reply": "2023-11-30T08:42:49.946170Z",
     "shell.execute_reply.started": "2023-11-30T08:42:49.746344Z"
    },
    "tags": []
   },
   "outputs": [
    {
     "name": "stdout",
     "output_type": "stream",
     "text": [
      "----------------------------------------\n",
      "1 Волшебники, использовавшие заклинание 2 Этимология 3 Вопрос о нужности заклинания 4 Появления 5 Примечания 6 См. также\n",
      "----------------------------------------\n",
      "Парящий торт  Левитационные заклинания — группа заклинаний, главным действием которых является левитация объектов. Известные заклинания[] Левитационные чары Асцендио Арресто моментум Карпе Ретрактум Левиосо Левикорпус Локомотор Эффект[] Заклинания группы Локомотор способны поднимать объекты в воздух (возможно, они гораздо эффективнее, чем Вингардиум Левиоса). Также с помощью этих заклинаний можно с легкостью перемещать предметы, не используя физических сил. Левитационные заклинания отрицают законы гравитации, помогают волшебнику поднимать тяжелые предметы, которые он не поднял бы без помощи магии. Левитационные заклинания можно наложить неодушевлённый предмет и заставить его летать. Например, мётлы. Заклинание «Вингардиум Левиоса» входило в экзаменационный материал на сдачу СОВ по заклинаниям. Заклинание «Акцио» частично тоже связано с левитацией, так как предметы, подвергнутые этому заклинанию, доставляются к волшебнику по воздуху. Заклинания, начинающиеся со слов «Локомотор...» (например «Локомотор\n",
      "----------------------------------------\n",
      "со слов «Локомотор...» (например «Локомотор чемодан») или «Мобили...» («Мобилиарбус») так же транспортируют предметы по воздуху, но эти перемещения надо контролировать волшебной палочкой. Заклинание «Левикорпус» было изобретено Северусом Снеггом и предназначается для подвешивания в воздухе человека. Перемещать висящего в воздухе человека можно с помощью того же «Локомотора». Контрзаклятием является «Либеракорпус».\n",
      "----------------------------------------\n",
      "## Левитация\n",
      "\n",
      "Это незавершённая статья.Вы можете помочь проекту, исправив и дополнив её.\n",
      "\n",
      "Левитация (англ. Levitation) — это магическая способность, позволяющая левитировать выбранные объекты.\n",
      "\n",
      "Заклинания, используемые для левитации[]\n",
      "\n",
      "Левикорпус\n",
      "\n",
      "Левитационное заклинание\n",
      "\n",
      "Левитационные чары\n",
      "\n",
      "Локомотор\n",
      "\n",
      "Мобилиарбус\n",
      "\n",
      "Мобиликорпус\n",
      "\n",
      "Парящие чары\n",
      "\n",
      "Появления[]\n",
      "\n",
      "Гарри Поттер и Философский камень (Первое появление)\n",
      "\n",
      "Гарри Поттер и Философский камень (фильм)\n",
      "\n",
      "Гарри Поттер и Философский камень (игра)\n",
      "\n",
      "Гарри Поттер и Тайная комната\n",
      "\n",
      "Гарри Поттер и Тайная комната (фильм)\n",
      "\n",
      "Гарри Поттер и Тайная комната (игра)\n",
      "\n",
      "Гарри Поттер и узник Азкабана\n",
      "\n",
      "Гарри Поттер и узник Азкабана (фильм)\n",
      "\n",
      "Гарри Поттер и узник Азкабана (игра)\n",
      "\n",
      "Гарри Поттер и Кубок Огня\n",
      "\n",
      "Гарри Поттер и Кубок огня (фильм)\n",
      "\n",
      "Гарри Поттер и Кубок Огня (игра)\n",
      "\n",
      "Гарри Поттер и Орден Феникса\n",
      "\n",
      "Гарри Поттер и Орден Феникса (фильм)\n",
      "\n",
      "Гарри Поттер и Орден Феникса (игра)\n",
      "\n",
      "Гарри Поттер и Принц-полукровка\n",
      "\n",
      "Гарри Поттер и Принц-полукровка (фильм)\n"
     ]
    }
   ],
   "source": [
    "q = \"Какое заклинание помогает левитировать?\"\n",
    "\n",
    "res = vec_store.similarity_search(q)\n",
    "for x in res:\n",
    "    print(\"-\" * 40)\n",
    "    print(x.page_content)"
   ]
  },
  {
   "cell_type": "markdown",
   "id": "df22dc90-810c-44bf-b77f-c2763b05ed47",
   "metadata": {},
   "source": [
    "Ещё один полезный интерфейс для поиска текстов - это `Retriever`, убедимся, что он тоже работает:"
   ]
  },
  {
   "cell_type": "code",
   "execution_count": 5,
   "id": "209d30d6",
   "metadata": {
    "cellId": "94wo2w5zglg0oyuubdoqlzc",
    "execution": {
     "iopub.execute_input": "2023-11-30T08:42:53.607580Z",
     "iopub.status.busy": "2023-11-30T08:42:53.606795Z",
     "iopub.status.idle": "2023-11-30T08:42:53.778387Z",
     "shell.execute_reply": "2023-11-30T08:42:53.777611Z",
     "shell.execute_reply.started": "2023-11-30T08:42:53.607529Z"
    },
    "tags": []
   },
   "outputs": [
    {
     "name": "stdout",
     "output_type": "stream",
     "text": [
      "1 Волшебники, использовавшие заклинание 2 Этимология 3 Вопрос о нужности заклинания 4 Появления 5 Примечания 6 См. также\n",
      "Парящий торт  Левитационные заклинания — группа заклинаний, главным действием которых является левитация объектов. Известные заклинания[] Левитационные чары Асцендио Арресто моментум Карпе Ретрактум Левиосо Левикорпус Локомотор Эффект[] Заклинания группы Локомотор способны поднимать объекты в воздух (возможно, они гораздо эффективнее, чем Вингардиум Левиоса). Также с помощью этих заклинаний можно с легкостью перемещать предметы, не используя физических сил. Левитационные заклинания отрицают законы гравитации, помогают волшебнику поднимать тяжелые предметы, которые он не поднял бы без помощи магии. Левитационные заклинания можно наложить неодушевлённый предмет и заставить его летать. Например, мётлы. Заклинание «Вингардиум Левиоса» входило в экзаменационный материал на сдачу СОВ по заклинаниям. Заклинание «Акцио» частично тоже связано с левитацией, так как предметы, подвергнутые этому заклинанию, доставляются к волшебнику по воздуху. Заклинания, начинающиеся со слов «Локомотор...» (например «Локомотор\n",
      "со слов «Локомотор...» (например «Локомотор чемодан») или «Мобили...» («Мобилиарбус») так же транспортируют предметы по воздуху, но эти перемещения надо контролировать волшебной палочкой. Заклинание «Левикорпус» было изобретено Северусом Снеггом и предназначается для подвешивания в воздухе человека. Перемещать висящего в воздухе человека можно с помощью того же «Локомотора». Контрзаклятием является «Либеракорпус».\n",
      "## Левитация\n",
      "\n",
      "Это незавершённая статья.Вы можете помочь проекту, исправив и дополнив её.\n",
      "\n",
      "Левитация (англ. Levitation) — это магическая способность, позволяющая левитировать выбранные объекты.\n",
      "\n",
      "Заклинания, используемые для левитации[]\n",
      "\n",
      "Левикорпус\n",
      "\n",
      "Левитационное заклинание\n",
      "\n",
      "Левитационные чары\n",
      "\n",
      "Локомотор\n",
      "\n",
      "Мобилиарбус\n",
      "\n",
      "Мобиликорпус\n",
      "\n",
      "Парящие чары\n",
      "\n",
      "Появления[]\n",
      "\n",
      "Гарри Поттер и Философский камень (Первое появление)\n",
      "\n",
      "Гарри Поттер и Философский камень (фильм)\n",
      "\n",
      "Гарри Поттер и Философский камень (игра)\n",
      "\n",
      "Гарри Поттер и Тайная комната\n",
      "\n",
      "Гарри Поттер и Тайная комната (фильм)\n",
      "\n",
      "Гарри Поттер и Тайная комната (игра)\n",
      "\n",
      "Гарри Поттер и узник Азкабана\n",
      "\n",
      "Гарри Поттер и узник Азкабана (фильм)\n",
      "\n",
      "Гарри Поттер и узник Азкабана (игра)\n",
      "\n",
      "Гарри Поттер и Кубок Огня\n",
      "\n",
      "Гарри Поттер и Кубок огня (фильм)\n",
      "\n",
      "Гарри Поттер и Кубок Огня (игра)\n",
      "\n",
      "Гарри Поттер и Орден Феникса\n",
      "\n",
      "Гарри Поттер и Орден Феникса (фильм)\n",
      "\n",
      "Гарри Поттер и Орден Феникса (игра)\n",
      "\n",
      "Гарри Поттер и Принц-полукровка\n",
      "\n",
      "Гарри Поттер и Принц-полукровка (фильм)\n",
      "История[] Ранние попытки[] К сожалению, пока еще не существует заклинание, с помощью которого маги могли бы летать в человеческом облике без каких-либо специальных приспособлений… Левитация — широко распространенное явление, но нашим предкам было мало лишь только болтаться в воздухе на высоте пяти футов. Им хотелось большего. Они мечтали летать, словно птицы, не обрастая при этом перьями. Кеннилуорти Уисп[2] Джарлет Хобарт демонстрирует левитационные чары Ещё с древних времён волшебники предпринимали попытки летать без посторонней помощи. Левитация стала возможной с появлением заклинания левитации в Англии, а попытка улучшить её привела к изобретению Джарлетом Хобартом левитационных чар в 1544 году. Примерно в 962 году нашей эры была изобретена летающая метла, которая удовлетворила желание большинства магов летать. Но левитация без посторонней помощи до сих пор считалась магически невозможной, не считая тех анимагов, что могли превращаться в летающих животных. Один из примеров полёта мага без посторонней\n"
     ]
    }
   ],
   "source": [
    "retriever = vec_store.as_retriever(search_kwargs={\"k\": 5})\n",
    "res = retriever.get_relevant_documents(q)\n",
    "for x in res:\n",
    "    print(x.page_content)"
   ]
  },
  {
   "cell_type": "markdown",
   "id": "13c08e24-b385-4853-bad4-73c5aae88425",
   "metadata": {},
   "source": [
    "## Подключаемся к Yandex GPT\n",
    "\n",
    "Для формирования целостного ответа на вопрос пользователей нам потребуется обработать найденные фрагменты текста с помощью большой языковой модели. Фреймворк LangChain поддерживает интеграцию с различными большими языковыми моделями, включая Yandex GPT. "
   ]
  },
  {
   "cell_type": "code",
   "execution_count": 9,
   "id": "423a58c1",
   "metadata": {
    "cellId": "j17m1mbp5hgxbgxvx0xnz",
    "execution": {
     "iopub.execute_input": "2023-11-30T08:44:43.028851Z",
     "iopub.status.busy": "2023-11-30T08:44:43.028181Z",
     "iopub.status.idle": "2023-11-30T08:45:03.511695Z",
     "shell.execute_reply": "2023-11-30T08:45:03.510878Z",
     "shell.execute_reply.started": "2023-11-30T08:44:43.028816Z"
    },
    "tags": []
   },
   "outputs": [
    {
     "data": {
      "text/plain": [
       "'Левитация — это способность парить в воздухе. Заклинание Левитации — это заклинание, позволяющее персонажу парить в течение некоторого времени.'"
      ]
     },
     "execution_count": 9,
     "metadata": {},
     "output_type": "execute_result"
    }
   ],
   "source": [
    "from langchain.llms import YandexGPT\n",
    "\n",
    "instructions = \"\"\"\n",
    "Ты - дружелюбный чат-бот, отвечающий на вопросы про вселенную Гарри Поттера\n",
    "\"\"\"\n",
    "\n",
    "llm = YandexGPT(api_key=api_key, instruction_text=instructions)\n",
    "\n",
    "llm(q)"
   ]
  },
  {
   "cell_type": "markdown",
   "id": "9bd75c79-ae33-4558-ae30-a2680ba6e67d",
   "metadata": {},
   "source": [
    "В данном примере мы пока что никак не использовали наши текстовые документы.\n",
    "\n",
    "## Собираем Retrieval-Augmented Generation\n",
    "\n",
    "Пришла пора соединить всё вместе и научить бота отвечать на вопросы, подглядывая в наш текстовый корпус. Для этого используем механизм цепочек (*chains*). Основную функциональность реализует `StuffDocumentsChain`, которая делает следующее:\n",
    "\n",
    "1. Берёт коллекцию документов `input_documents`\n",
    "1. Каждый из них пропускает через `document_prompt`, и затем объединяет вместе.\n",
    "1. Данный текст помещается в переменную `document_variable_name`, и передаётся большой языковой модели `llm`\n",
    "\n",
    "В нашем случае `document_prompt` не будет модицицировать документ, а основной запрос к LLM будет содержать в себе инструкции для Yandex GPT. "
   ]
  },
  {
   "cell_type": "code",
   "execution_count": 14,
   "id": "4a500165",
   "metadata": {
    "cellId": "77y4w5s6seg08g1utincn7a",
    "execution": {
     "iopub.execute_input": "2023-11-30T08:45:57.593315Z",
     "iopub.status.busy": "2023-11-30T08:45:57.592603Z",
     "iopub.status.idle": "2023-11-30T08:46:18.824148Z",
     "shell.execute_reply": "2023-11-30T08:46:18.823291Z",
     "shell.execute_reply.started": "2023-11-30T08:45:57.593271Z"
    },
    "tags": []
   },
   "outputs": [
    {
     "data": {
      "text/plain": [
       "'Заклинание, которое помогает левитировать, называется \"Вингардиум Левиоса\".'"
      ]
     },
     "execution_count": 14,
     "metadata": {},
     "output_type": "execute_result"
    }
   ],
   "source": [
    "import langchain.chains\n",
    "import langchain.prompts\n",
    "\n",
    "# Промпт для обработки документов\n",
    "document_prompt = langchain.prompts.PromptTemplate(\n",
    "    input_variables=[\"page_content\"], template=\"{page_content}\"\n",
    ")\n",
    "\n",
    "# Промпт для языковой модели\n",
    "document_variable_name = \"context\"\n",
    "stuff_prompt_override = \"\"\"\n",
    "Пожалуйста, посмотри на текст ниже и ответь на вопрос, используя информацию из этого текста.\n",
    "Текст:\n",
    "-----\n",
    "{context}\n",
    "-----\n",
    "Вопрос:\n",
    "{query}\"\"\"\n",
    "prompt = langchain.prompts.PromptTemplate(\n",
    "    template=stuff_prompt_override, input_variables=[\"context\", \"query\"]\n",
    ")\n",
    "\n",
    "# Создаём цепочку\n",
    "llm_chain = langchain.chains.LLMChain(llm=llm, prompt=prompt)\n",
    "chain = langchain.chains.StuffDocumentsChain(\n",
    "    llm_chain=llm_chain,\n",
    "    document_prompt=document_prompt,\n",
    "    document_variable_name=document_variable_name,\n",
    ")\n",
    "chain.run(input_documents=res, query=q)"
   ]
  },
  {
   "cell_type": "markdown",
   "id": "064633e5-10b9-4914-acde-950b96dc043f",
   "metadata": {},
   "source": [
    "Чтобы ещё более улучшить результат, мы можем использовать хитрый механизм перемешивания документов, таким образом, чтобы наиболее значимые документы были ближе к началу запроса. Также мы оформим все операции в одну функцию `answer`:"
   ]
  },
  {
   "cell_type": "code",
   "execution_count": 15,
   "id": "e38c691c",
   "metadata": {
    "cellId": "dhzsgivm5s9mpky1db082",
    "execution": {
     "iopub.execute_input": "2023-11-30T09:43:53.729112Z",
     "iopub.status.busy": "2023-11-30T09:43:53.728250Z",
     "iopub.status.idle": "2023-11-30T09:43:53.764285Z",
     "shell.execute_reply": "2023-11-30T09:43:53.763611Z",
     "shell.execute_reply.started": "2023-11-30T09:43:53.729064Z"
    }
   },
   "outputs": [],
   "source": [
    "from langchain.document_transformers import LongContextReorder\n",
    "\n",
    "reorderer = LongContextReorder()\n",
    "\n",
    "\n",
    "def answer(query, reorder=True, print_results=False):\n",
    "    results = retriever.get_relevant_documents(query)\n",
    "    if print_results:\n",
    "        for x in results:\n",
    "            print(f\"{x.page_content}\\n--------\")\n",
    "    if reorder:\n",
    "        results = reorderer.transform_documents(results)\n",
    "    return chain.run(input_documents=results, query=query)"
   ]
  },
  {
   "cell_type": "code",
   "execution_count": 17,
   "id": "96149ae4",
   "metadata": {
    "cellId": "is1wpwxhw1inxmwsqvixqa",
    "execution": {
     "iopub.execute_input": "2023-11-30T09:44:37.305946Z",
     "iopub.status.busy": "2023-11-30T09:44:37.305209Z",
     "iopub.status.idle": "2023-11-30T09:44:58.053136Z",
     "shell.execute_reply": "2023-11-30T09:44:58.052325Z",
     "shell.execute_reply.started": "2023-11-30T09:44:37.305896Z"
    },
    "tags": []
   },
   "outputs": [
    {
     "data": {
      "text/plain": [
       "'**Вингардиум Левио́са** (ориг. *Wingardium Levioso*) — заклятие, поднимающее предметы в воздух.'"
      ]
     },
     "execution_count": 17,
     "metadata": {},
     "output_type": "execute_result"
    }
   ],
   "source": [
    "answer(\"Что означает Вингардиум Левиоса\", print_results=False)"
   ]
  },
  {
   "cell_type": "markdown",
   "id": "38cd717f-c17c-43d8-8732-789ac5efb68f",
   "metadata": {},
   "source": [
    "Можно сравнить результаты, выдаваемые Yandex GPT напрямую, с результатами нашей генерации на основе документов:"
   ]
  },
  {
   "cell_type": "code",
   "execution_count": 18,
   "id": "a006ce0f",
   "metadata": {
    "cellId": "4byevx8504hx6nicfe2hia",
    "execution": {
     "iopub.execute_input": "2023-11-30T09:45:23.550699Z",
     "iopub.status.busy": "2023-11-30T09:45:23.549894Z",
     "iopub.status.idle": "2023-11-30T09:46:06.598199Z",
     "shell.execute_reply": "2023-11-30T09:46:06.597511Z",
     "shell.execute_reply.started": "2023-11-30T09:45:23.550654Z"
    }
   },
   "outputs": [
    {
     "name": "stdout",
     "output_type": "stream",
     "text": [
      "Ответ YGPT: Вингардиум — это заклинание, используемое для левитации объектов. Левитация — это способность поднимать объект в воздух без использования магии.\n",
      "\n",
      "Вингардиум левиоса — это заклинание на языке магов, которое используется для левитирования объектов. Это заклинание используется в Гарри Поттере, чтобы поднимать предметы.\n",
      "Ответ бота: Вингардиум Левиоса — это заклинание левитации. Оно заставляет предметы парить в воздухе.\n"
     ]
    }
   ],
   "source": [
    "def compare(q):\n",
    "    print(f\"Ответ YGPT: {llm(q)}\")\n",
    "    print(f\"Ответ бота: {answer(q)}\")\n",
    "\n",
    "\n",
    "compare(\"Что означает Вингардиум Левиоса\")"
   ]
  },
  {
   "cell_type": "code",
   "execution_count": null,
   "id": "f511df20-551e-47b8-809c-52a9169a6c7c",
   "metadata": {},
   "outputs": [],
   "source": []
  }
 ],
 "metadata": {
  "kernelspec": {
   "display_name": "DataSphere Kernel",
   "language": "python",
   "name": "python3"
  },
  "language_info": {
   "codemirror_mode": {
    "name": "ipython",
    "version": 3
   },
   "file_extension": ".py",
   "mimetype": "text/x-python",
   "name": "python",
   "nbconvert_exporter": "python",
   "pygments_lexer": "ipython3",
   "version": "3.7.7"
  },
  "notebookId": "369d3e82-763a-4bcd-b5cc-0cfe14f13f53",
  "notebookPath": "VideoQABot/LangChainQA.ipynb"
 },
 "nbformat": 4,
 "nbformat_minor": 5
}
